{
 "cells": [
  {
   "cell_type": "markdown",
   "id": "dad76724-6f37-49a6-abfd-a39f12c08bb5",
   "metadata": {},
   "source": [
    "## ** What is the average cost for dining in Bangalore restaurants? Does the median cost differ significantly from the mean?**"
   ]
  },
  {
   "cell_type": "code",
   "execution_count": 3,
   "id": "070a3b1a-5fbf-42d6-904b-694715523a05",
   "metadata": {},
   "outputs": [
    {
     "name": "stdout",
     "output_type": "stream",
     "text": [
      "Mean Cost: 625.1171910330124\n",
      "Median Cost: 500.0\n",
      "The average cost is higher than the middle value, meaning there are some expensive restaurants raising the average.\n"
     ]
    }
   ],
   "source": [
    "import pandas as pd\n",
    "\n",
    "df = pd.read_csv(\"C:\\\\Projects\\\\DataAnalysisProjects\\\\ZomatoRestaurantDataAnalysis\\\\CleanedData\\\\cleaned_data.csv\")\n",
    "\n",
    "mean_cost = df[\"cost\"].mean()\n",
    "median_cost = df[\"cost\"].median()\n",
    "\n",
    "print(f\"Mean Cost: {mean_cost}\")\n",
    "print(f\"Median Cost: {median_cost}\")\n",
    "\n",
    "if mean_cost > median_cost:\n",
    "    print(\"The average cost is higher than the middle value, meaning there are some expensive restaurants raising the average.\")\n",
    "elif mean_cost < median_cost:\n",
    "    print(\"The average cost is lower than the middle value, meaning there are more affordable restaurants pulling the average down.\")\n",
    "else:\n",
    "    print(\"The average and middle cost are the same, meaning restaurant prices are evenly distributed.\")\n"
   ]
  },
  {
   "cell_type": "markdown",
   "id": "a840fb99-62e6-4725-adcb-ac3957f99204",
   "metadata": {},
   "source": [
    "## ** Which restaurant cost is the most common among customers?**"
   ]
  },
  {
   "cell_type": "code",
   "execution_count": 13,
   "id": "b99e964a-327b-463b-8630-aa21dad166c5",
   "metadata": {},
   "outputs": [
    {
     "name": "stdout",
     "output_type": "stream",
     "text": [
      "The most common restaurant cost among customers is 400.\n",
      "some of the 10 restaurants with this cost:\n",
      "360 Atoms Restaurant And Cafe\n",
      "The Vintage Cafe\n",
      "Fast And Fresh\n",
      "Hotboxit\n",
      "Corner House Ice Cream\n",
      "XO Belgian Waffle\n",
      "Kabab Magic\n",
      "Frozen Bottle\n",
      "Polar Bear\n",
      "Floured-Baked With Love\n"
     ]
    }
   ],
   "source": [
    "import statistics\n",
    "\n",
    "most_common_cost = statistics.mode(df['cost'])\n",
    "common_restaurants = df[df['cost'] == most_common_cost]['restaurants'].unique()[:10]  # Limit to 10 restaurants\n",
    "\n",
    "print(f\"The most common restaurant cost among customers is {most_common_cost}.\")\n",
    "print(\"some of the 10 restaurants with this cost:\")\n",
    "for restaurant in common_restaurants:\n",
    "    print(restaurant)"
   ]
  },
  {
   "cell_type": "markdown",
   "id": "eda88506-c1e9-49f1-8757-04b8dbabb936",
   "metadata": {},
   "source": [
    "## **What is the cheapest and most expensive restaurant cost in the dataset?**"
   ]
  },
  {
   "cell_type": "code",
   "execution_count": 15,
   "id": "fba2ad24-4159-4f05-bf7b-f2a7c94f2197",
   "metadata": {
    "scrolled": true
   },
   "outputs": [
    {
     "name": "stdout",
     "output_type": "stream",
     "text": [
      "The cheapest restaurant cost is 40.\n",
      "Restaurants with the cheapest cost:\n",
      "Srinidhi Sagar Food Line\n",
      "Srinidhi Sagar\n",
      "Srinidhi Sagar Deluxe\n",
      "\n",
      "The most expensive restaurant cost is 6000.\n",
      "Restaurants with the most expensive cost:\n",
      "Le Cirque Signature - The Leela Palace\n"
     ]
    }
   ],
   "source": [
    "min_cost = df['cost'].min()\n",
    "max_cost = df['cost'].max()\n",
    "\n",
    "cheapest_restaurants = df[df['cost'] == min_cost]['restaurants'].unique()[:10]  # Limiting to 10 names\n",
    "expensive_restaurants = df[df['cost'] == max_cost]['restaurants'].unique()[:10]  # Limiting to 10 names\n",
    "\n",
    "print(f\"The cheapest restaurant cost is {min_cost}.\")\n",
    "print(\"Restaurants with the cheapest cost:\")\n",
    "for restaurant in cheapest_restaurants:\n",
    "    print(restaurant)\n",
    "\n",
    "print(f\"\\nThe most expensive restaurant cost is {max_cost}.\")\n",
    "print(\"Restaurants with the most expensive cost:\")\n",
    "for restaurant in expensive_restaurants:\n",
    "    print(restaurant)\n"
   ]
  },
  {
   "cell_type": "markdown",
   "id": "2283d9da-235e-4a85-8c69-1fec6d90de3f",
   "metadata": {},
   "source": [
    "## **1. Does higher cost of dining lead to restaurant ratings?**"
   ]
  },
  {
   "cell_type": "code",
   "execution_count": 11,
   "id": "6a14b38d-ab3b-4a77-bbce-973895d478ca",
   "metadata": {},
   "outputs": [
    {
     "name": "stdout",
     "output_type": "stream",
     "text": [
      "T-Statistics: 47.6845\n",
      "P-Value: 0.0000\n",
      "There is a significant relationship between dining cost and restaurant rating.\n"
     ]
    }
   ],
   "source": [
    "import pandas as pd\n",
    "from scipy.stats import ttest_ind\n",
    "\n",
    "df=pd.read_csv(\"C:\\\\Projects\\\\DataAnalysisProjects\\\\ZomatoRestaurantDataAnalysis\\\\CleanedData\\\\cleaned_data.csv\")\n",
    "median_cost=df['cost'].median()\n",
    "high_cost=df[df['cost']>median_cost]['rating']\n",
    "low_cost=df[df['cost']<=median_cost]['rating']\n",
    "\n",
    "t_stat,p_value=ttest_ind(high_cost,low_cost,equal_var=False)\n",
    "\n",
    "print(f\"T-Statistics: {t_stat:.4f}\")\n",
    "print(f\"P-Value: {p_value:.4f}\")\n",
    "\n",
    "if p_value<0.05:\n",
    "    print(\"There is a significant relationship between dining cost and restaurant rating.\")\n",
    "else:\n",
    "    print(\"There is no significant relationship between dining cost and restaurant rating.\")\n",
    "    "
   ]
  },
  {
   "cell_type": "markdown",
   "id": "e21a241d-ec94-409a-b809-a6f18802ef3c",
   "metadata": {},
   "source": [
    "# Data Analysis Report: Relationship Between Dining Cost and Restaurant Rating\r",
    "gs.\r\n",
    "\r\n",
    "### Data Source:\r\n",
    "The data used in this analysis comes from a cleaned Zomato restaurant dataset. Key columns:\r\n",
    "- **Cost**: The cost of dining at the restaurant.\r\n",
    "- **Rating**: The rating given to the restaurant.\r\n",
    "\r\n",
    "### Methodology:\r\n",
    "1. **Data Preprocessing**:  \r\n",
    "   - The dataset was cleaned to remove any missing or invalid values.\r\n",
    "   - We split restaurants into two groups based on the median cost:\r\n",
    "     - **High-Cost Restaurants**: Restaurants with a cost higher than the median.\r\n",
    "     - **Low-Cost Restaurants**: Restaurants with a cost less than or equal to the median.\r\n",
    "\r\n",
    "2. **Statistical Test**:  \r\n",
    "   A **two-sample t-test** was performed to check if there’s a significant difference between the ratings of high-cost and low-cost restaurants. We used `equal_var=False` to account for unequal variances between the groups.\r\n",
    "\r\n",
    "### Results:\r\n",
    "- **T-Statistic**: 47.6845\r\n",
    "- **P-Value**: 0.0000\r\n",
    "\r\n",
    "Since the p-value is much smaller than 0.05, we reject the null hypothesis, which means there is a significant difference in ratings between high-cost and low-cost restaurants.\r\n",
    "\r\n",
    "### Conclusion:\r\n",
    "There **is a significant relationship** between dining cost and restaurant rating. High-cost restaurants tend to have higher ratings compared to low-cost restaurants.\r\n",
    "\r\n",
    "### Implications:\r\n",
    "- **For restaurant owners**: Increasing dining cost may lead to higher ratings, though other factors (like service and food quality) matter too.\r\n",
    "- **For consumers**: Higher-cost restaurants may have higher ratings, but it's important to consider other factors when choosing a restaurant.\r\n",
    "- **For marketers**: Emphasize the value of dining experiences in higher-cost restaurants to attract customers."
   ]
  },
  {
   "cell_type": "markdown",
   "id": "2cd557ad-c227-4b90-9975-3b6e68ce3159",
   "metadata": {},
   "source": [
    "## **2. Which cuisines receive the highest and lowest rating?**"
   ]
  },
  {
   "cell_type": "code",
   "execution_count": 26,
   "id": "366773fd-ca90-4a53-8776-95f1a30b5852",
   "metadata": {},
   "outputs": [
    {
     "name": "stdout",
     "output_type": "stream",
     "text": [
      "T-statistics: 5.7339\n",
      "P-Value: 0.0000\n",
      "There is a significant difference in ratings between different cuisines.\n",
      "Highest Rated Cuisine: Asian, Chinese, Thai, Momos (4.90)\n",
      "Lowest Rated Cuisine: American, Cafe, Chinese, Italian, Desserts (0.00)\n"
     ]
    }
   ],
   "source": [
    "from scipy.stats import f_oneway\n",
    "\n",
    "grouped_cuisines=[df[df['cuisines']==cuisine]['rating'] for cuisine in df['cuisines'].unique()]\n",
    "\n",
    "f_stat,p_value=f_oneway(*grouped_cuisines)\n",
    "\n",
    "cuisine_ratings=df.groupby('cuisines')['rating'].mean()\n",
    "highest_rated_cuisine=cuisine_ratings.idxmax()\n",
    "lowest_rated_cuisine=cuisine_ratings.idxmin()\n",
    "\n",
    "print(f\"T-statistics: {f_stat:.4f}\")\n",
    "print(f\"P-Value: {p_value:.4f}\")\n",
    "\n",
    "if p_value < 0.05:\n",
    "    print(\"There is a significant difference in ratings between different cuisines.\")\n",
    "else:\n",
    "    print(\"There is no significant difference in ratings between different cuisines.\")\n",
    "\n",
    "print(f\"Highest Rated Cuisine: {highest_rated_cuisine} ({cuisine_ratings.max():.2f})\")\n",
    "print(f\"Lowest Rated Cuisine: {lowest_rated_cuisine} ({cuisine_ratings.min():.2f})\")\n"
   ]
  },
  {
   "cell_type": "markdown",
   "id": "3f3af502-8866-44fd-b46a-6e494f210e27",
   "metadata": {},
   "source": [
    "# Data Analysis Report: Which Cuisines receives highest and lowest ratings\n",
    "\n",
    "\n",
    "### 1. Methodology\n",
    "- An **ANOVA test** was performed to check if cuisine types significantly impact restaurant ratings.\n",
    "- The **mean rating** for each cuisine was calculated.\n",
    "- The cuisines with the **highest** and **lowest** ratings were identified.\n",
    "\n",
    "### 2. Results\n",
    "#### ANOVA Test Results\n",
    "- **T-Statistic:** 5.7339  \n",
    "- **P-Value:** 0.0000  \n",
    "- **Conclusion:** Since the p-value is **less than 0.05**, we conclude that there is a **significant difference** in ratings between different cuisines.\n",
    "\n",
    "### 3.Highest and Lowest Rated Cuisines\n",
    "- **Highest Rated Cuisine:** Asian, Chinese, Thai, Momos (**4.90**)  \n",
    "- **Lowest Rated Cuisine:** American, Cafe, Chinese, Italian, Desserts (**0.00**)\n",
    "\n",
    "### 4. Conclusion\n",
    "- The results confirm that **cuisine type influences restaurant ratings**.\n",
    "- Customers rate **Asian, Chinese, Thai, and Momos cuisine the highest**.\n",
    "- **American, Cafe, Chinese, Italian, and Desserts cuisine received the lowest rating (0.00)**, indicating customer dissatisfaction.\n",
    "\n",
    "### 5. Recommendations\n",
    "- Restaurants serving **high-rated cuisines** can **leverage this preference** to attract more customers.\n",
    "- Businesses offering **low-rated cuisines** should investigate **customer feedback** to improve their ratings.\n",
    "- Future analysis could include **a post-hoc test** to determine specific differences between cuisines.\n"
   ]
  },
  {
   "cell_type": "markdown",
   "id": "9de201a8-9630-4ce1-b190-71ef88827752",
   "metadata": {},
   "source": [
    "## **3. Are expensive restaurants more engaging(getting more votes)?**"
   ]
  },
  {
   "cell_type": "code",
   "execution_count": 35,
   "id": "7f188e91-19ca-43f2-a9ad-2d972365c79f",
   "metadata": {},
   "outputs": [
    {
     "name": "stdout",
     "output_type": "stream",
     "text": [
      "Correlation Coefficient: 0.3799\n",
      "P-Value: 0.0000\n",
      "There is a significant correlation between restaurant cost and engagement (votes).\n"
     ]
    }
   ],
   "source": [
    "from scipy.stats import pearsonr\n",
    "\n",
    "correlation,p_value=pearsonr(df['cost'],df['votes'])\n",
    "\n",
    "print(f\"Correlation Coefficient: {correlation:.4f}\")\n",
    "print(f\"P-Value: {p_value:.4f}\")\n",
    "\n",
    "if p_value<0.05:\n",
    "    print(\"There is a significant correlation between restaurant cost and engagement (votes).\")\n",
    "else:\n",
    "    print(\"There is no significant correlation between restaurant cost and engagement (votes).\")\n",
    "    "
   ]
  },
  {
   "cell_type": "markdown",
   "id": "0096a091-5639-40e5-8ecb-0628ec73e85e",
   "metadata": {},
   "source": [
    "## Analysis of Restaurant Cost and Engagement (Votes)\r\n",
    "\r\n",
    "### 1. **Objective**\r\n",
    "To determine if there is a significant correlation between the **cost of a restaurant** and the **number of votevotesunt)** it receives.\r\n",
    "\r\n",
    "### 2. **Methodology**\r\n",
    "- A **Pearson correlation test** was performed to examine the relationship between:\r\n",
    "  - The **cost** of the restaurant (`cost`)\r\n",
    "  - The **number of vovotesng_count`)\r\n",
    "- The correlation coefficient and p-value were computed to assess the strength and statistical significance of the relationship.\r\n",
    "\r\n",
    "### 3. **Results**\r\n",
    "#### **Pearson Correlation Test Results**\r\n",
    "- **Correlation Coefficient:** 0.3799  \r\n",
    "- **P-Value:** 0.0000  \r\n",
    "- **Conclusion:** Since the p-value is **less than 0.05**, we conclude that there is a **significant correlation** between the cost of a restaurant and the number of votes it receives.\r\n",
    "\r\n",
    "### 4. **Interpretation**\r\n",
    "- The **positive correlation** of 0.3799 indicates that as the **cost** of a restaurant increases, the **number of votes** it receives tends to increase as well, though the relationship is **moderate**.\r\n",
    "- This suggests that **expensive restaurants** are likely to receive **more votes**, but the relationship is not very strong.\r\n",
    "\r\n",
    "### 5. **Conclusion**\r\n",
    "- There is a **statistically significant moderate positive correlation** between restaurant cost and the number of votes.\r\n",
    "- **Higher-cost restaurants** tend to receive **more votes**, but the correlation is not strong enough to say that cost alone influences the number of votes.\r\n",
    "\r\n",
    "### 6. **Recommendations**\r\n",
    "- **Expensive restaurants** may benefit from receiving more votes due to their higher cost, but **other factors** (such as quality, service, and reputation) likely also play a role in generating customer engagement.\r\n",
    "- Future analyses could explore how **restaurant quality**, **service reviews**, and **location** influence engagement (votes) and better understand what drives higher ratings."
   ]
  },
  {
   "cell_type": "code",
   "execution_count": null,
   "id": "f098876c-76cb-471c-91f2-c4200a5c2ab0",
   "metadata": {},
   "outputs": [],
   "source": []
  },
  {
   "cell_type": "code",
   "execution_count": null,
   "id": "2410b9bd-f577-49dd-9f5b-9f7da9757096",
   "metadata": {},
   "outputs": [],
   "source": []
  }
 ],
 "metadata": {
  "kernelspec": {
   "display_name": "Python 3 (ipykernel)",
   "language": "python",
   "name": "python3"
  },
  "language_info": {
   "codemirror_mode": {
    "name": "ipython",
    "version": 3
   },
   "file_extension": ".py",
   "mimetype": "text/x-python",
   "name": "python",
   "nbconvert_exporter": "python",
   "pygments_lexer": "ipython3",
   "version": "3.12.3"
  }
 },
 "nbformat": 4,
 "nbformat_minor": 5
}
